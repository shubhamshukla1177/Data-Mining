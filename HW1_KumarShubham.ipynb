{
 "cells": [
  {
   "cell_type": "markdown",
   "id": "1b37f892",
   "metadata": {},
   "source": [
    "# Sentiment Analysis"
   ]
  },
  {
   "cell_type": "markdown",
   "id": "691518d4",
   "metadata": {},
   "source": [
    "    # Name : Kumar Shubham\n",
    "    # G    : G01402581\n",
    "    # Netid: kfnu"
   ]
  },
  {
   "cell_type": "code",
   "execution_count": 1,
   "id": "2c2db204",
   "metadata": {},
   "outputs": [
    {
     "name": "stderr",
     "output_type": "stream",
     "text": [
      "[nltk_data] Downloading package stopwords to\n",
      "[nltk_data]     C:\\Users\\SHUBHAM\\AppData\\Roaming\\nltk_data...\n",
      "[nltk_data]   Package stopwords is already up-to-date!\n",
      "[nltk_data] Downloading package punkt to\n",
      "[nltk_data]     C:\\Users\\SHUBHAM\\AppData\\Roaming\\nltk_data...\n",
      "[nltk_data]   Package punkt is already up-to-date!\n"
     ]
    },
    {
     "data": {
      "text/plain": [
       "True"
      ]
     },
     "execution_count": 1,
     "metadata": {},
     "output_type": "execute_result"
    }
   ],
   "source": [
    "import numpy as np\n",
    "import pandas as pd\n",
    "import re\n",
    "import string\n",
    "import matplotlib.pyplot as plt\n",
    "import seaborn as sns\n",
    "from collections import Counter\n",
    "\n",
    "import nltk\n",
    "from nltk.tokenize import word_tokenize\n",
    "nltk.download(\"stopwords\")\n",
    "from nltk.corpus import stopwords \n",
    "from nltk.stem import SnowballStemmer\n",
    "\n",
    "from sklearn.feature_extraction.text import CountVectorizer, TfidfTransformer\n",
    "from sklearn.model_selection import train_test_split, cross_val_score, learning_curve\n",
    "from sklearn.linear_model import LogisticRegression\n",
    "from sklearn.metrics import classification_report, accuracy_score, confusion_matrix\n",
    "import nltk\n",
    "nltk.download('punkt')"
   ]
  },
  {
   "cell_type": "markdown",
   "id": "70d4553e",
   "metadata": {},
   "source": [
    "### Data Cleanup"
   ]
  },
  {
   "cell_type": "code",
   "execution_count": 2,
   "id": "e0b823be",
   "metadata": {},
   "outputs": [],
   "source": [
    "def csv_to_df(file_name,col_name):\n",
    "    return pd.read_csv(file_name,delimiter='\\t',header=None,names=col_name,index_col=None,quotechar='\"',quoting=0,escapechar=None,doublequote=True,delim_whitespace=False,encoding='utf-8')\n",
    "\n",
    "def data_cleaning(col):\n",
    "    lower_replace= str(col).lower().replace('\\\\n',' ').replace('\\\\',' ')\n",
    "    rm_numbers= re.sub(r'\\d+',' ', lower_replace) \n",
    "    translator= str.maketrans(' ', ' ', string.punctuation)\n",
    "    rm_punctuation= rm_numbers.translate(translator)\n",
    "    rm_whitespace= \" \".join(rm_punctuation.split())\n",
    "    return rm_whitespace\n",
    "\n",
    "def rm_stopwords(col):\n",
    "    stopword_list = stopwords.words(\"english\")\n",
    "    col_tokens= word_tokenize(col)\n",
    "    col_tokens= [token.strip() for token in col_tokens]\n",
    "    clean_tokens= [token for token in col_tokens if token.lower() not in stopword_list]    \n",
    "    return \" \".join(clean_tokens)\n",
    "\n",
    "def stem_words(col):\n",
    "    snowballstemmer= SnowballStemmer(language='english')\n",
    "    stem= \" \".join([snowballstemmer.stem(word) for word in col.split()])\n",
    "    return stem\n",
    "\n",
    "def data_preprocess(df,col):\n",
    "    clean= list(map(data_cleaning,df[col]))\n",
    "    #stopwords= list(map(rm_stopwords,clean))\n",
    "    stem= list(map(stem_words,clean))\n",
    "    return stem"
   ]
  },
  {
   "cell_type": "code",
   "execution_count": 3,
   "id": "34b88395",
   "metadata": {},
   "outputs": [],
   "source": [
    "#filepath='D:/George Mason/SecondSem/CS584/' \n",
    "filepath=''\n",
    "train_filename=filepath+'reviews_train_file.dat'\n",
    "train_fileheader=['Sentiment', 'Reviews']\n",
    "test_filename=filepath+'reviews_test_file.dat'\n",
    "test_fileheader=['Reviews']\n",
    "\n",
    "train_df= csv_to_df(train_filename,train_fileheader)\n",
    "#test_df= csv_to_df(test_filename,test_fileheader)"
   ]
  },
  {
   "cell_type": "code",
   "execution_count": 4,
   "id": "d7a77b25",
   "metadata": {},
   "outputs": [
    {
     "data": {
      "text/plain": [
       " 1    10000\n",
       "-1     8506\n",
       "Name: Sentiment, dtype: int64"
      ]
     },
     "execution_count": 4,
     "metadata": {},
     "output_type": "execute_result"
    }
   ],
   "source": [
    "train_df.Sentiment.value_counts()"
   ]
  },
  {
   "cell_type": "code",
   "execution_count": 5,
   "id": "2d5c373b",
   "metadata": {},
   "outputs": [],
   "source": [
    "with open(test_filename,'rt',encoding='utf-8') as f:\n",
    "    test_data = f.read()"
   ]
  },
  {
   "cell_type": "code",
   "execution_count": 6,
   "id": "0e2785ac",
   "metadata": {},
   "outputs": [],
   "source": [
    "test_df = test_data.split('\\n')"
   ]
  },
  {
   "cell_type": "code",
   "execution_count": 7,
   "id": "63e9b4c9",
   "metadata": {},
   "outputs": [],
   "source": [
    "test_df = pd.DataFrame(test_df,columns=['Reviews']).dropna(how='any',axis=0).drop(18506)"
   ]
  },
  {
   "cell_type": "code",
   "execution_count": 8,
   "id": "c65ab465",
   "metadata": {},
   "outputs": [
    {
     "data": {
      "text/plain": [
       "(18506, 1)"
      ]
     },
     "execution_count": 8,
     "metadata": {},
     "output_type": "execute_result"
    }
   ],
   "source": [
    "test_df.shape"
   ]
  },
  {
   "cell_type": "code",
   "execution_count": 9,
   "id": "3fd08af9",
   "metadata": {},
   "outputs": [
    {
     "name": "stdout",
     "output_type": "stream",
     "text": [
      "Train Dataframe shape: (18506, 2)\n",
      "Test Dataframe shape: (18506, 1)\n"
     ]
    }
   ],
   "source": [
    "print(\"Train Dataframe shape:\", train_df.shape)\n",
    "print(\"Test Dataframe shape:\", test_df.shape)"
   ]
  },
  {
   "cell_type": "code",
   "execution_count": 10,
   "id": "6fca477d",
   "metadata": {},
   "outputs": [],
   "source": [
    "#train and test dataset after using data cleanup\n",
    "#train_preprocess_w_dc=data_preprocess(train_df,'Reviews')\n",
    "#test_preprocess_w_dc=data_preprocess(test_df,'Reviews')"
   ]
  },
  {
   "cell_type": "code",
   "execution_count": 11,
   "id": "22ee5db7",
   "metadata": {},
   "outputs": [],
   "source": [
    "label = [i for i in train_df.Sentiment]\n",
    "reviews = [str(i) for i in train_df.Reviews]"
   ]
  },
  {
   "cell_type": "code",
   "execution_count": 12,
   "id": "54dd7b86",
   "metadata": {},
   "outputs": [],
   "source": [
    "test_reviews = [str(i) for i in test_df.Reviews]"
   ]
  },
  {
   "cell_type": "markdown",
   "id": "11b884ce",
   "metadata": {},
   "source": [
    "### Text Analysis"
   ]
  },
  {
   "cell_type": "code",
   "execution_count": 13,
   "id": "aac99dc7",
   "metadata": {},
   "outputs": [
    {
     "data": {
      "text/plain": [
       "[('the', 86030),\n",
       " ('and', 52506),\n",
       " ('to', 52332),\n",
       " ('I', 49532),\n",
       " ('a', 41183),\n",
       " ('it', 37114),\n",
       " ('', 36580),\n",
       " ('is', 28262),\n",
       " ('of', 24162),\n",
       " ('for', 22760)]"
      ]
     },
     "execution_count": 13,
     "metadata": {},
     "output_type": "execute_result"
    }
   ],
   "source": [
    "#finding out the 10 most common words\n",
    "words = Counter()\n",
    "for i in reviews:\n",
    "  for j in str(i).split(' '):\n",
    "    words[j] += 1\n",
    "    \n",
    "words.most_common(10)"
   ]
  },
  {
   "cell_type": "code",
   "execution_count": 14,
   "id": "23b7f0eb",
   "metadata": {},
   "outputs": [],
   "source": [
    "count = CountVectorizer(analyzer='word',ngram_range=(1,2))\n",
    "#train_cv_w_dc = count.fit_transform(train_preprocess_w_dc)\n",
    "#test_cv_w_dc = count.transform(test_preprocess_w_dc)\n",
    "train_cv = count.fit_transform(reviews)\n",
    "test_cv = count.transform(test_reviews)\n",
    "\n",
    "tfidf=TfidfTransformer(sublinear_tf=True)\n",
    "#train_tfidf_w_dc=tfidf.fit_transform(train_cv_w_dc)\n",
    "#test_tfidf_w_dc=tfidf.transform(test_cv_w_dc)\n",
    "train_tfidf=tfidf.fit_transform(train_cv)\n",
    "test_tfidf=tfidf.transform(test_cv)"
   ]
  },
  {
   "cell_type": "markdown",
   "id": "b96c8177",
   "metadata": {},
   "source": [
    "### Train Test Split "
   ]
  },
  {
   "cell_type": "code",
   "execution_count": 15,
   "id": "9bebbbb0",
   "metadata": {},
   "outputs": [],
   "source": [
    "#training data with tfidf\n",
    "X=train_tfidf\n",
    "\n",
    "#training data with data cleaned and tfidf\n",
    "#X_w_dc=train_tfidf_w_dc\n",
    "\n",
    "#training data without tfidf\n",
    "#X_wo_tfidf=train_cv\n",
    "\n",
    "y=[i for i in train_df['Sentiment']]\n",
    "\n",
    "#for model-1\n",
    "#X_train_w_dc, X_test_w_dc, y_train_w_dc, y_test_w_dc = train_test_split(X_w_dc,y,test_size=0.3,random_state=0,stratify=y)\n",
    "\n",
    "#for model-2\n",
    "X_train, X_test, y_train, y_test = train_test_split(X,y,test_size=0.3,random_state=0,stratify=y)\n",
    "\n",
    "#for model-3\n",
    "#X_train_wo_tfidf, X_test_wo_tfidf, y_train_wo_tfidf, y_test_wo_tfidf = train_test_split(X_wo_tfidf,y,test_size=0.3,random_state=0,stratify=y)"
   ]
  },
  {
   "cell_type": "markdown",
   "id": "4a9e4193",
   "metadata": {},
   "source": [
    "### Logistic Regression "
   ]
  },
  {
   "cell_type": "markdown",
   "id": "f4a14b60",
   "metadata": {},
   "source": [
    "I am using Liblinear solver in Logistic Regression, which uses popular coordinate descent algorithm (it finds the coefficients of the logistic regression model that minimize the loss function).\n",
    "\n",
    "And After doing many hit and trial, I found my model accuracy is getting increased by 1% on choosing argument C value using 10-fold cross validation.\n",
    "\n",
    "To do this, I am looping over the values of C and for each value, I'm training LR model using 10-fold cross-validation.\n",
    "After that I am storing the average cross-validation score for each value of C. \n",
    "\n",
    "In the final step, I find the value of C that leads to the highest cross-validation score, and train a final logistic regression model using that value of C on the training data.\n",
    "\n",
    "Also, here I am trying to show three models \n",
    "(commenting out model-1 and model-3 because of low accuracy as compared to model-2): \n",
    "\n",
    "model-1 is trained on cleaned, count vectorized, tfidf transformed data,\n",
    "\n",
    "model-2 is only trained on count vectorized, tfidf transformed data and \n",
    "\n",
    "model-3 is trained without using tfidf."
   ]
  },
  {
   "cell_type": "code",
   "execution_count": 16,
   "id": "311bbb3c",
   "metadata": {},
   "outputs": [],
   "source": [
    "#Logistic Model 1\n",
    "\n",
    "# c_val = np.logspace(-3, 3, 7)\n",
    "# cv_sc = []\n",
    "\n",
    "# for i in c_val:\n",
    "#     model = LogisticRegression(C=i, solver='liblinear')\n",
    "#     sc = cross_val_score(model, X_train_w_dc, y_train_w_dc, cv=10)\n",
    "#     cv_sc.append(np.mean(sc))\n",
    "\n",
    "# c_val_final = c_val[np.argmax(cv_sc)]\n",
    "\n",
    "# model_w_dc=LogisticRegression(C=c_val_final, solver='liblinear')\n",
    "# model_w_dc.fit(X_train_w_dc, y_train_w_dc)\n",
    "\n",
    "# test_score_w_dc = model_w_dc.score(X_test_w_dc, y_test_w_dc)\n",
    "# print(test_score_w_dc)"
   ]
  },
  {
   "cell_type": "code",
   "execution_count": 17,
   "id": "0f94a36d",
   "metadata": {},
   "outputs": [],
   "source": [
    "#result of model 1\n",
    "\n",
    "# test_pred_w_dc=model_w_dc.predict(X_test_w_dc) \n",
    "\n",
    "# print(\"Classification Report\")\n",
    "# print(\"=====================\")\n",
    "# print(classification_report(y_test_w_dc, test_pred_w_dc))\n",
    "# print(\"\\n\")\n",
    "# print(\"Accuracy Score\")\n",
    "# print(\"==============\")\n",
    "# print(accuracy_score(y_test, test_pred_w_dc))\n",
    "# print(\"\\n\")\n",
    "# cm = confusion_matrix(y_test, test_pred_w_dc)\n",
    "# ax = plt.axes()\n",
    "# sns.heatmap(cm, annot=True, fmt=\"d\")\n",
    "# ax.set_title('Confusion matrix Logistic Regression')"
   ]
  },
  {
   "cell_type": "code",
   "execution_count": 18,
   "id": "fb1eb05a",
   "metadata": {},
   "outputs": [
    {
     "name": "stdout",
     "output_type": "stream",
     "text": [
      "0.9052593659942363\n"
     ]
    }
   ],
   "source": [
    "#Logistic Model 2\n",
    "\n",
    "c_val = np.logspace(-3, 3, 7)\n",
    "cv_sc = []\n",
    "\n",
    "for i in c_val:\n",
    "    model = LogisticRegression(C=i, solver='liblinear')\n",
    "    sc = cross_val_score(model, X_train, y_train, cv=10)\n",
    "    cv_sc.append(np.mean(sc))\n",
    "\n",
    "c_val_final = c_val[np.argmax(cv_sc)]\n",
    "\n",
    "model2=LogisticRegression(C=c_val_final, solver='liblinear')\n",
    "model2.fit(X_train, y_train)\n",
    "\n",
    "test_score = model2.score(X_test, y_test)\n",
    "print(test_score)"
   ]
  },
  {
   "cell_type": "code",
   "execution_count": 19,
   "id": "b75b5ace",
   "metadata": {},
   "outputs": [
    {
     "data": {
      "text/plain": [
       "100.0"
      ]
     },
     "execution_count": 19,
     "metadata": {},
     "output_type": "execute_result"
    }
   ],
   "source": [
    "c_val_final"
   ]
  },
  {
   "cell_type": "code",
   "execution_count": 20,
   "id": "a90668da",
   "metadata": {},
   "outputs": [
    {
     "name": "stdout",
     "output_type": "stream",
     "text": [
      "Classification Report\n",
      "=====================\n",
      "              precision    recall  f1-score   support\n",
      "\n",
      "          -1       0.90      0.89      0.90      2552\n",
      "           1       0.91      0.92      0.91      3000\n",
      "\n",
      "    accuracy                           0.91      5552\n",
      "   macro avg       0.91      0.90      0.90      5552\n",
      "weighted avg       0.91      0.91      0.91      5552\n",
      "\n",
      "\n",
      "\n",
      "Accuracy Score\n",
      "==============\n",
      "0.9052593659942363\n",
      "\n",
      "\n"
     ]
    },
    {
     "data": {
      "text/plain": [
       "Text(0.5, 1.0, 'Confusion matrix - Logistic Regression')"
      ]
     },
     "execution_count": 20,
     "metadata": {},
     "output_type": "execute_result"
    },
    {
     "data": {
      "image/png": "[encoded data removed]",
      "text/plain": [
       "<Figure size 432x288 with 2 Axes>"
      ]
     },
     "metadata": {
      "needs_background": "light"
     },
     "output_type": "display_data"
    }
   ],
   "source": [
    "#result of model 2\n",
    "#predicting test data using model 2\n",
    "final_test_pred=model2.predict(X_test)\n",
    "\n",
    "print(\"Classification Report\")\n",
    "print(\"=====================\")\n",
    "print(classification_report(y_test, final_test_pred))\n",
    "print(\"\\n\")\n",
    "print(\"Accuracy Score\")\n",
    "print(\"==============\")\n",
    "print(accuracy_score(y_test, final_test_pred))\n",
    "print(\"\\n\")\n",
    "cm = confusion_matrix(y_test, final_test_pred)\n",
    "ax = plt.axes()\n",
    "sns.heatmap(cm, annot=True, fmt=\"d\")\n",
    "ax.set_title('Confusion matrix - Logistic Regression')"
   ]
  },
  {
   "cell_type": "code",
   "execution_count": 21,
   "id": "97d5185e",
   "metadata": {},
   "outputs": [
    {
     "data": {
      "image/png": "[encoded data removed]",
      "text/plain": [
       "<Figure size 432x288 with 1 Axes>"
      ]
     },
     "metadata": {
      "needs_background": "light"
     },
     "output_type": "display_data"
    }
   ],
   "source": [
    "# Use the learning_curve function to get the training and testing scores\n",
    "train_sizes, train_scores, validation_scores = learning_curve(model2, X, y, cv=10, scoring='accuracy')\n",
    "\n",
    "train_scores_mean = np.mean(train_scores, axis=1)\n",
    "validation_scores_mean = np.mean(validation_scores, axis=1)\n",
    "plt.plot(train_sizes, train_scores_mean, label='Training error')\n",
    "plt.plot(train_sizes, validation_scores_mean, label='Validation error')\n",
    "plt.legend()\n",
    "plt.xlabel('Training set size')\n",
    "plt.ylabel('Error')\n",
    "plt.title('Learning curves - Logistic regression')\n",
    "plt.show()"
   ]
  },
  {
   "cell_type": "code",
   "execution_count": 22,
   "id": "e8003eba",
   "metadata": {},
   "outputs": [],
   "source": [
    "#Logistic Model 3\n",
    "\n",
    "# c_val = np.logspace(-3, 3, 7)\n",
    "# cv_sc = []\n",
    "\n",
    "# for i in c_val:\n",
    "#     model = LogisticRegression(C=i, solver='liblinear')\n",
    "#     sc = cross_val_score(model, X_train_wo_tfidf, y_train_wo_tfidf, cv=10)\n",
    "#     cv_sc.append(np.mean(sc))\n",
    "\n",
    "# c_val_final = c_val[np.argmax(cv_sc)]\n",
    "\n",
    "# model3=LogisticRegression(C=c_val_final, solver='liblinear')\n",
    "# model3.fit(X_train_wo_tfidf, y_train_wo_tfidf)\n",
    "\n",
    "# test_score3 = model3.score(X_test_wo_tfidf, y_test_wo_tfidf)\n",
    "# print(test_score3)"
   ]
  },
  {
   "cell_type": "code",
   "execution_count": 23,
   "id": "18252c27",
   "metadata": {},
   "outputs": [],
   "source": [
    "#result of model 3\n",
    "\n",
    "# final_test_pred=best_model.predict(X_test_wo_tfidf)\n",
    "\n",
    "# print(\"Classification Report\")\n",
    "# print(\"=====================\")\n",
    "# print(classification_report(y_test_wo_tfidf, final_test_pred))\n",
    "# print(\"\\n\")\n",
    "# print(\"Accuracy Score\")\n",
    "# print(\"==============\")\n",
    "# print(accuracy_score(y_test_wo_tfidf, final_test_pred))\n",
    "# print(\"\\n\")\n",
    "# cm = confusion_matrix(y_test_wo_tfidf, final_test_pred)\n",
    "# ax = plt.axes()\n",
    "# sns.heatmap(cm, annot=True, fmt=\"d\")\n",
    "# ax.set_title('Confusion matrix - Logistic Regression')"
   ]
  },
  {
   "cell_type": "markdown",
   "id": "2228bedb",
   "metadata": {},
   "source": [
    "### Conclusion\n",
    "\n",
    "After finding out the accuracy among above three LR models. I have decided to go with LR model-2 because it is giving good accuracy and is fast in performance. I am commenting out the codes of model-1 and model-3, in order to save processing time."
   ]
  },
  {
   "cell_type": "markdown",
   "id": "553569bf",
   "metadata": {},
   "source": [
    "### Predict test data"
   ]
  },
  {
   "cell_type": "code",
   "execution_count": 24,
   "id": "ad70f1ba",
   "metadata": {},
   "outputs": [],
   "source": [
    "test_pred = model2.predict(test_tfidf)"
   ]
  },
  {
   "cell_type": "code",
   "execution_count": 25,
   "id": "fde4f1a7",
   "metadata": {},
   "outputs": [
    {
     "data": {
      "text/plain": [
       "18506"
      ]
     },
     "execution_count": 25,
     "metadata": {},
     "output_type": "execute_result"
    }
   ],
   "source": [
    "len(test_pred)"
   ]
  },
  {
   "cell_type": "code",
   "execution_count": 26,
   "id": "e1690b88",
   "metadata": {},
   "outputs": [],
   "source": [
    "write_sentiments=open(\"LR_output_20230210.csv\", \"w\")\n",
    "write_sentiments.writelines(\"%s\\n\" % i for i in test_pred)\n",
    "write_sentiments.close()"
   ]
  },
  {
   "cell_type": "code",
   "execution_count": 27,
   "id": "8434c72f",
   "metadata": {},
   "outputs": [
    {
     "data": {
      "image/png": "[encoded data removed]",
      "text/plain": [
       "<Figure size 432x288 with 1 Axes>"
      ]
     },
     "metadata": {},
     "output_type": "display_data"
    }
   ],
   "source": [
    "sentiments= Counter(test_pred).keys()\n",
    "sentiments_count= Counter(test_pred).values()\n",
    "plt.pie(sentiments_count,labels= sentiments_count,autopct= \"%1.2f%%\")\n",
    "plt.legend(sentiments,title= \"Sentiments\",loc= \"center\",bbox_to_anchor= (1, 0, 1, 2))\n",
    "plt.title(\"Data Reviews Sentiments\")\n",
    "plt.show()"
   ]
  },
  {
   "cell_type": "code",
   "execution_count": null,
   "id": "a3633b95",
   "metadata": {},
   "outputs": [],
   "source": []
  }
 ],
 "metadata": {
  "kernelspec": {
   "display_name": "Python 3 (ipykernel)",
   "language": "python",
   "name": "python3"
  },
  "language_info": {
   "codemirror_mode": {
    "name": "ipython",
    "version": 3
   },
   "file_extension": ".py",
   "mimetype": "text/x-python",
   "name": "python",
   "nbconvert_exporter": "python",
   "pygments_lexer": "ipython3",
   "version": "3.9.12"
  }
 },
 "nbformat": 4,
 "nbformat_minor": 5
}
