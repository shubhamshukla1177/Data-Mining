{
 "cells": [
  {
   "cell_type": "markdown",
   "id": "5aca81b4",
   "metadata": {},
   "source": [
    "# HW2 - Gradient Descent "
   ]
  },
  {
   "cell_type": "code",
   "execution_count": null,
   "id": "c974213f",
   "metadata": {},
   "outputs": [],
   "source": [
    "    # Name : Kumar Shubham\n",
    "    # G    : G01402581\n",
    "    # Netid: kfnu"
   ]
  },
  {
   "cell_type": "markdown",
   "id": "eaea7e7f",
   "metadata": {},
   "source": [
    "Agenda:\n",
    "\n",
    "Run experiments where you learn logistic regression models on the training set when using three different bounds on the maximum number of iterations: \n",
    "(1) ten thousand, (2) one hundred thousand, and (3) one million.\n",
    "\n",
    "In your writeup, report all four of the following:\n",
    "\n",
    "(1) the cross-entropy error on the training set\n",
    "(2) the classification error on the training data \n",
    "(3) an estimate of the classification error on the test data obtained using Miner \n",
    "(4) the time it took to train your model. \n",
    "(5) In your report, discuss the generalization properties \n",
    "(the difference between training and test set classification errors) of the model.\n",
    "How does this relate to the cross-entropy error on the training set?"
   ]
  },
  {
   "cell_type": "code",
   "execution_count": 124,
   "id": "19e4f956",
   "metadata": {},
   "outputs": [],
   "source": [
    "import numpy as np\n",
    "import pandas as pd\n",
    "import re\n",
    "import string\n",
    "import matplotlib.pyplot as plt\n",
    "import seaborn as sns\n",
    "from collections import Counter\n",
    "from sklearn.preprocessing import StandardScaler\n",
    "from sklearn.model_selection import train_test_split, cross_val_score, learning_curve\n",
    "from sklearn.linear_model import LogisticRegression\n",
    "from sklearn.metrics import classification_report, accuracy_score, confusion_matrix"
   ]
  },
  {
   "cell_type": "markdown",
   "id": "515c83ff",
   "metadata": {},
   "source": [
    "Train and test your model on the \"Cleveland\" dataset, which you can learn more about here: https://archive.ics.uci.edu/ml/datasets/Heart+Disease"
   ]
  },
  {
   "cell_type": "markdown",
   "id": "01eeb269",
   "metadata": {},
   "source": [
    "### Data Dictionary:\n",
    "    \n",
    "cp: chest pain type \n",
    "    -- Value 1: typical angina \n",
    "    -- Value 2: atypical angina \n",
    "    -- Value 3: non-anginal pain \n",
    "    -- Value 4: asymptomatic\n",
    "\n",
    "fbs: (fasting blood sugar > 120 mg/dl) (1 = true; 0 = false) \n",
    "    \n",
    "trestbps: resting blood pressure (in mm Hg on admission to the hospital) \n",
    "    \n",
    "chol: serum cholestoral in mg/dl\n",
    "    \n",
    "restecg: resting electrocardiographic results \n",
    "    -- Value 0: normal \n",
    "    -- Value 1: having ST-T wave abnormality (T wave inversions and/or ST elevation or depression of > 0.05 mV) \n",
    "    -- Value 2: showing probable or definite left ventricular hypertrophy by Estes' criteria\n",
    "    \n",
    "exang: exercise induced angina (1 = yes; 0 = no)\n",
    "    \n",
    "oldpeak: ST depression induced by exercise relative to rest\n",
    "\n",
    "slope: the slope of the peak exercise ST segment \n",
    "    -- Value 1: upsloping \n",
    "    -- Value 2: flat \n",
    "    -- Value 3: downsloping\n",
    "        \n",
    "ca: number of major vessels (0-3) colored by flourosopy thal: \n",
    "    3 = normal; \n",
    "    6 = fixed defect; \n",
    "    7 = reversable defect num: diagnosis of heart disease (angiographic disease status) \n",
    "        -- Value 0: < 50% diameter narrowing \n",
    "        -- Value 1: > 50% diameter narrowing "
   ]
  },
  {
   "cell_type": "code",
   "execution_count": 125,
   "id": "df926a93",
   "metadata": {},
   "outputs": [],
   "source": [
    "def csv_to_df(file_name):\n",
    "    return pd.read_csv(file_name,delimiter=',',quotechar='\"',delim_whitespace=False,encoding='utf-8')"
   ]
  },
  {
   "cell_type": "code",
   "execution_count": 126,
   "id": "336a1242",
   "metadata": {},
   "outputs": [],
   "source": [
    "train_filename = \"cleveland-train.csv\"\n",
    "test_filename = \"cleveland-test.csv\""
   ]
  },
  {
   "cell_type": "code",
   "execution_count": 127,
   "id": "b9e3c306",
   "metadata": {},
   "outputs": [],
   "source": [
    "train_df = csv_to_df(train_filename)\n",
    "test_df = csv_to_df(test_filename)"
   ]
  },
  {
   "cell_type": "code",
   "execution_count": 128,
   "id": "5fd8bdd0",
   "metadata": {},
   "outputs": [],
   "source": [
    "train_df = train_df.rename(columns={'heartdisease::category|-1|1':'heartdisease'}).replace(-1,0)"
   ]
  },
  {
   "cell_type": "code",
   "execution_count": 129,
   "id": "2a4c56be",
   "metadata": {},
   "outputs": [
    {
     "data": {
      "text/html": [
       "<div>\n",
       "<style scoped>\n",
       "    .dataframe tbody tr th:only-of-type {\n",
       "        vertical-align: middle;\n",
       "    }\n",
       "\n",
       "    .dataframe tbody tr th {\n",
       "        vertical-align: top;\n",
       "    }\n",
       "\n",
       "    .dataframe thead th {\n",
       "        text-align: right;\n",
       "    }\n",
       "</style>\n",
       "<table border=\"1\" class=\"dataframe\">\n",
       "  <thead>\n",
       "    <tr style=\"text-align: right;\">\n",
       "      <th></th>\n",
       "      <th>age</th>\n",
       "      <th>sex</th>\n",
       "      <th>cp</th>\n",
       "      <th>trestbps</th>\n",
       "      <th>chol</th>\n",
       "      <th>fbs</th>\n",
       "      <th>restecg</th>\n",
       "      <th>thalach</th>\n",
       "      <th>exang</th>\n",
       "      <th>oldpeak</th>\n",
       "      <th>slope</th>\n",
       "      <th>ca</th>\n",
       "      <th>thal</th>\n",
       "      <th>heartdisease</th>\n",
       "    </tr>\n",
       "  </thead>\n",
       "  <tbody>\n",
       "    <tr>\n",
       "      <th>0</th>\n",
       "      <td>67</td>\n",
       "      <td>1</td>\n",
       "      <td>4</td>\n",
       "      <td>120</td>\n",
       "      <td>229</td>\n",
       "      <td>0</td>\n",
       "      <td>2</td>\n",
       "      <td>129</td>\n",
       "      <td>1</td>\n",
       "      <td>2.6</td>\n",
       "      <td>2</td>\n",
       "      <td>2</td>\n",
       "      <td>7</td>\n",
       "      <td>1</td>\n",
       "    </tr>\n",
       "    <tr>\n",
       "      <th>1</th>\n",
       "      <td>37</td>\n",
       "      <td>1</td>\n",
       "      <td>3</td>\n",
       "      <td>130</td>\n",
       "      <td>250</td>\n",
       "      <td>0</td>\n",
       "      <td>0</td>\n",
       "      <td>187</td>\n",
       "      <td>0</td>\n",
       "      <td>3.5</td>\n",
       "      <td>3</td>\n",
       "      <td>0</td>\n",
       "      <td>3</td>\n",
       "      <td>0</td>\n",
       "    </tr>\n",
       "    <tr>\n",
       "      <th>2</th>\n",
       "      <td>56</td>\n",
       "      <td>1</td>\n",
       "      <td>2</td>\n",
       "      <td>120</td>\n",
       "      <td>236</td>\n",
       "      <td>0</td>\n",
       "      <td>0</td>\n",
       "      <td>178</td>\n",
       "      <td>0</td>\n",
       "      <td>0.8</td>\n",
       "      <td>1</td>\n",
       "      <td>0</td>\n",
       "      <td>3</td>\n",
       "      <td>0</td>\n",
       "    </tr>\n",
       "    <tr>\n",
       "      <th>3</th>\n",
       "      <td>57</td>\n",
       "      <td>0</td>\n",
       "      <td>4</td>\n",
       "      <td>120</td>\n",
       "      <td>354</td>\n",
       "      <td>0</td>\n",
       "      <td>0</td>\n",
       "      <td>163</td>\n",
       "      <td>1</td>\n",
       "      <td>0.6</td>\n",
       "      <td>1</td>\n",
       "      <td>0</td>\n",
       "      <td>3</td>\n",
       "      <td>0</td>\n",
       "    </tr>\n",
       "    <tr>\n",
       "      <th>4</th>\n",
       "      <td>63</td>\n",
       "      <td>1</td>\n",
       "      <td>4</td>\n",
       "      <td>130</td>\n",
       "      <td>254</td>\n",
       "      <td>0</td>\n",
       "      <td>2</td>\n",
       "      <td>147</td>\n",
       "      <td>0</td>\n",
       "      <td>1.4</td>\n",
       "      <td>2</td>\n",
       "      <td>1</td>\n",
       "      <td>7</td>\n",
       "      <td>1</td>\n",
       "    </tr>\n",
       "  </tbody>\n",
       "</table>\n",
       "</div>"
      ],
      "text/plain": [
       "   age  sex  cp  trestbps  chol  fbs  restecg  thalach  exang  oldpeak  slope  \\\n",
       "0   67    1   4       120   229    0        2      129      1      2.6      2   \n",
       "1   37    1   3       130   250    0        0      187      0      3.5      3   \n",
       "2   56    1   2       120   236    0        0      178      0      0.8      1   \n",
       "3   57    0   4       120   354    0        0      163      1      0.6      1   \n",
       "4   63    1   4       130   254    0        2      147      0      1.4      2   \n",
       "\n",
       "   ca  thal  heartdisease  \n",
       "0   2     7             1  \n",
       "1   0     3             0  \n",
       "2   0     3             0  \n",
       "3   0     3             0  \n",
       "4   1     7             1  "
      ]
     },
     "execution_count": 129,
     "metadata": {},
     "output_type": "execute_result"
    }
   ],
   "source": [
    "train_df.head()"
   ]
  },
  {
   "cell_type": "code",
   "execution_count": 130,
   "id": "7a8741fc",
   "metadata": {},
   "outputs": [
    {
     "name": "stdout",
     "output_type": "stream",
     "text": [
      "(152, 14)\n",
      "(145, 13)\n"
     ]
    }
   ],
   "source": [
    "print(train_df.shape)\n",
    "print(test_df.shape)"
   ]
  },
  {
   "cell_type": "code",
   "execution_count": 131,
   "id": "05d438dd",
   "metadata": {},
   "outputs": [
    {
     "data": {
      "text/plain": [
       "0    86\n",
       "1    66\n",
       "Name: heartdisease, dtype: int64"
      ]
     },
     "execution_count": 131,
     "metadata": {},
     "output_type": "execute_result"
    }
   ],
   "source": [
    "train_df['heartdisease'].value_counts()"
   ]
  },
  {
   "cell_type": "code",
   "execution_count": 132,
   "id": "8381dccb",
   "metadata": {},
   "outputs": [
    {
     "data": {
      "text/plain": [
       "<AxesSubplot:>"
      ]
     },
     "execution_count": 132,
     "metadata": {},
     "output_type": "execute_result"
    },
    {
     "data": {
      "image/png": "[encoded data removed]",
      "text/plain": [
       "<Figure size 900x600 with 2 Axes>"
      ]
     },
     "metadata": {
      "needs_background": "light"
     },
     "output_type": "display_data"
    }
   ],
   "source": [
    "plt.figure(dpi=150)\n",
    "sns.heatmap(train_df.corr(),annot=False)"
   ]
  },
  {
   "cell_type": "code",
   "execution_count": 167,
   "id": "86a15479",
   "metadata": {},
   "outputs": [],
   "source": [
    "X = train_df.drop('heartdisease', axis = 1).values\n",
    "y = [int(i) for i in train_df['heartdisease']]"
   ]
  },
  {
   "cell_type": "code",
   "execution_count": 168,
   "id": "d4a9539f",
   "metadata": {},
   "outputs": [],
   "source": [
    "test = test_df.values"
   ]
  },
  {
   "cell_type": "code",
   "execution_count": 169,
   "id": "0368063d",
   "metadata": {},
   "outputs": [
    {
     "name": "stdout",
     "output_type": "stream",
     "text": [
      "(152, 13)\n",
      "152\n"
     ]
    }
   ],
   "source": [
    "print(X.shape)\n",
    "print(len(y))"
   ]
  },
  {
   "cell_type": "code",
   "execution_count": 170,
   "id": "9716b6f7",
   "metadata": {},
   "outputs": [],
   "source": [
    "scaler = StandardScaler()"
   ]
  },
  {
   "cell_type": "code",
   "execution_count": 171,
   "id": "39c50156",
   "metadata": {},
   "outputs": [],
   "source": [
    "X_std_scaler = scaler.fit_transform(X)"
   ]
  },
  {
   "cell_type": "code",
   "execution_count": 172,
   "id": "af679776",
   "metadata": {},
   "outputs": [],
   "source": [
    "test_scaled = scaler.transform(test)"
   ]
  },
  {
   "cell_type": "code",
   "execution_count": 211,
   "id": "6fae0f94",
   "metadata": {},
   "outputs": [
    {
     "name": "stdout",
     "output_type": "stream",
     "text": [
      "(152, 13)\n"
     ]
    }
   ],
   "source": [
    "print(X_std_scaler.shape)\n",
    "#print(X_test.shape)"
   ]
  },
  {
   "cell_type": "markdown",
   "id": "d5fffd01",
   "metadata": {},
   "source": [
    "Task 1\n",
    "\n",
    "is to encode a gradient descent algorithm for learning a logistic regression model. \n",
    "Your function should take as input a matrix X, where each row corresponds to a training example, and a column vector y where each row corresponds to a label, and return the learned weight vector w (which should have one more element than each training example, with the convention that this first element represents the intercept), \n",
    "\n",
    "the cross-entropy error, and \n",
    "the classification (0/1) error it achieved on the training set. \n",
    "Use a learning rate eta = 10^{-5} and automatically terminate the algorithm if the magnitude of each term in the gradient is below 10^{-3} at any step."
   ]
  },
  {
   "cell_type": "code",
   "execution_count": 118,
   "id": "85131eeb",
   "metadata": {},
   "outputs": [],
   "source": [
    "#Sigmoid function\n",
    "def measure_sigmoid(z):\n",
    "    return 1.0 / (1.0 + np.exp(-z))"
   ]
  },
  {
   "cell_type": "code",
   "execution_count": 232,
   "id": "3da0171f",
   "metadata": {},
   "outputs": [],
   "source": [
    "def fit_predict_logistic_regression(X, y, iterations, eta, tol):\n",
    "    r,c=X.shape\n",
    "    start_time = time.time()\n",
    "    \n",
    "    cross_entropy_error = 0\n",
    "    classification_error = 0\n",
    "    num_iter = 0\n",
    "\n",
    "    #Add a bias term to X and initialize weight vector\n",
    "    X = np.hstack([np.ones((X.shape[0], 1)), X])\n",
    "    w = np.zeros(X.shape[1])\n",
    "    \n",
    "    #Gradient descent loop\n",
    "    for i in range(iterations):\n",
    "        z=X.dot(w)\n",
    "        y_pred = measure_sigmoid(z)\n",
    "        grad = X.T.dot(y_pred-y)/X.shape[0]\n",
    "        \n",
    "        for j in range(X.shape[0]):\n",
    "            cross_entropy_error += -(np.dot(y[j],np.log(y_pred[j])) + np.dot((1-y[j]),np.log(1-y_pred[j])))\n",
    "            if y_pred[j] >= 0.5:\n",
    "                y_pred_temp = 1\n",
    "            else:\n",
    "                y_pred_temp = 0\n",
    "            if y_pred_temp != y[j]:\n",
    "                classification_error += 1\n",
    "        \n",
    "        classification_error /= X.shape[0]\n",
    "        cross_entropy_error /= X.shape[0]\n",
    "        #Check convergence\n",
    "        if np.all(np.abs(grad) < tol):\n",
    "            break\n",
    "\n",
    "        # Update weights\n",
    "        w -= eta * grad\n",
    "        num_iter += 1\n",
    "        \n",
    "    #Predict using learned weight vector\n",
    "    y_pred_test = (X.dot(w) > 0).astype(int)\n",
    "    end_time = time.time()\n",
    "    return w,accuracy_score(y_pred_test, y),cross_entropy_error,classification_error,(end_time - start_time),num_iter"
   ]
  },
  {
   "cell_type": "code",
   "execution_count": 233,
   "id": "a87e1dd7",
   "metadata": {},
   "outputs": [
    {
     "name": "stdout",
     "output_type": "stream",
     "text": [
      "Maximum number of iterations: 10000\n",
      "Training Accuracy: 0.8092\n",
      "Learned weight vector: [-0.00649736  0.01030669  0.01419356  0.01884358  0.00659612 -0.00200029\n",
      "  0.00044416  0.00682121 -0.01682467  0.01597742  0.01857863  0.01337991\n",
      "  0.02180836  0.02457978]\n",
      "Training set cross-entropy error: 0.6681\n",
      "Training set classification error: 0.1921\n",
      "Training time: 12.5578s\n",
      "Maximum number of iterations: 100000\n",
      "Training Accuracy: 0.8026\n",
      "Learned weight vector: [-0.05813708  0.06722947  0.10869183  0.14176046  0.0521538  -0.01518892\n",
      " -0.00623456  0.05288535 -0.12008387  0.11753027  0.13235318  0.09359056\n",
      "  0.16798462  0.18626352]\n",
      "Training set cross-entropy error: 0.5272\n",
      "Training set classification error: 0.1987\n",
      "Training time: 119.2358s\n",
      "Maximum number of iterations: 1000000\n",
      "Training Accuracy: 0.8224\n",
      "Learned weight vector: [-0.27534348  0.04495877  0.32283574  0.42037741  0.24688949  0.00254886\n",
      " -0.16332289  0.22243271 -0.26296924  0.29587714  0.27592051  0.19396054\n",
      "  0.59250954  0.51957026]\n",
      "Training set cross-entropy error: 0.4195\n",
      "Training set classification error: 0.1788\n",
      "Training time: 1200.0435s\n"
     ]
    }
   ],
   "source": [
    "import time\n",
    "eta=1e-5\n",
    "tol=1e-3\n",
    "i = lw = sc = cost = cerr = tt = et = []\n",
    "for max_iters in [10000, 100000, 1000000]:\n",
    "    print(f\"Maximum number of iterations: {max_iters}\")\n",
    "    w, score, cross_entropy_error, classification_error, train_time, iterations = fit_predict_logistic_regression(X_std_scaler, y, max_iters ,eta,tol)\n",
    "    print(f\"Training Accuracy: {score:.4f}\")\n",
    "    print(f\"Learned weight vector: {w.ravel()}\")\n",
    "    print(f\"Training set cross-entropy error: {float(cross_entropy_error):.4f}\")\n",
    "    print(f\"Training set classification error: {classification_error:.4f}\")\n",
    "    print(f\"Training time: {train_time:.4f}s\")\n",
    "    i.append(iterations)\n",
    "    lw.append(w)\n",
    "    sc.append(score)\n",
    "    cost.append(cross_entropy_error)\n",
    "    cerr.append(classification_error)\n",
    "    tt.append(train_time)"
   ]
  },
  {
   "cell_type": "code",
   "execution_count": 192,
   "id": "47184d50",
   "metadata": {},
   "outputs": [],
   "source": [
    "test = np.hstack([np.ones((test_scaled.shape[0], 1)), test_scaled])\n",
    "test_pred = (test.dot(w) > 0).astype(int)"
   ]
  },
  {
   "cell_type": "code",
   "execution_count": 193,
   "id": "311fa172",
   "metadata": {},
   "outputs": [
    {
     "data": {
      "text/plain": [
       "array([0, 1, 0, 1, 1, 1, 0, 0, 0, 1, 0, 0, 0, 1, 1, 0, 1, 0, 0, 1, 0, 0,\n",
       "       1, 1, 0, 0, 1, 0, 0, 1, 1, 0, 0, 1, 0, 1, 0, 0, 1, 0, 0, 1, 0, 0,\n",
       "       0, 0, 0, 1, 0, 0, 1, 0, 0, 0, 1, 1, 0, 1, 1, 1, 1, 0, 1, 0, 0, 0,\n",
       "       1, 0, 0, 1, 1, 0, 0, 1, 1, 0, 0, 1, 1, 1, 1, 1, 0, 1, 0, 0, 0, 1,\n",
       "       0, 1, 0, 0, 1, 0, 0, 0, 1, 0, 1, 1, 0, 0, 0, 1, 1, 0, 1, 0, 0, 0,\n",
       "       0, 1, 0, 0, 1, 1, 0, 1, 0, 1, 1, 0, 0, 0, 0, 0, 0, 0, 0, 1, 0, 1,\n",
       "       0, 0, 0, 0, 0, 1, 1, 1, 0, 1, 1, 1, 0])"
      ]
     },
     "execution_count": 193,
     "metadata": {},
     "output_type": "execute_result"
    }
   ],
   "source": [
    "test_pred"
   ]
  },
  {
   "cell_type": "code",
   "execution_count": 194,
   "id": "b7c46125",
   "metadata": {},
   "outputs": [
    {
     "data": {
      "text/plain": [
       "145"
      ]
     },
     "execution_count": 194,
     "metadata": {},
     "output_type": "execute_result"
    }
   ],
   "source": [
    "len(test_pred)"
   ]
  },
  {
   "cell_type": "code",
   "execution_count": 195,
   "id": "87ef5922",
   "metadata": {},
   "outputs": [
    {
     "name": "stdout",
     "output_type": "stream",
     "text": [
      "[-1  1 -1  1  1  1 -1 -1 -1  1 -1 -1 -1  1  1 -1  1 -1 -1  1 -1 -1  1  1\n",
      " -1 -1  1 -1 -1  1  1 -1 -1  1 -1  1 -1 -1  1 -1 -1  1 -1 -1 -1 -1 -1  1\n",
      " -1 -1  1 -1 -1 -1  1  1 -1  1  1  1  1 -1  1 -1 -1 -1  1 -1 -1  1  1 -1\n",
      " -1  1  1 -1 -1  1  1  1  1  1 -1  1 -1 -1 -1  1 -1  1 -1 -1  1 -1 -1 -1\n",
      "  1 -1  1  1 -1 -1 -1  1  1 -1  1 -1 -1 -1 -1  1 -1 -1  1  1 -1  1 -1  1\n",
      "  1 -1 -1 -1 -1 -1 -1 -1 -1  1 -1  1 -1 -1 -1 -1 -1  1  1  1 -1  1  1  1\n",
      " -1]\n"
     ]
    }
   ],
   "source": [
    "test_pred= np.where(test_pred==0,-1,1)\n",
    "print(test_pred)"
   ]
  },
  {
   "cell_type": "code",
   "execution_count": 202,
   "id": "d172ae49",
   "metadata": {},
   "outputs": [
    {
     "name": "stdout",
     "output_type": "stream",
     "text": [
      "miner error on 1 million iteration with eta 1e-5 and tolerance 1e-3 0.10999999999999999\n"
     ]
    }
   ],
   "source": [
    "#accuracy on miner: 0.89\n",
    "print(\"miner error on 1 million iteration with eta 1e-5 and tolerance 1e-3\", 1-0.89)"
   ]
  },
  {
   "cell_type": "markdown",
   "id": "89ca48aa",
   "metadata": {},
   "source": [
    "Task 2 : \n",
    "\n",
    "Now train and test a logistic regression model using whichever library you used for Homework 1. Compare the results with the best ones you achieved and also compare the time taken to achieve the results."
   ]
  },
  {
   "cell_type": "code",
   "execution_count": 227,
   "id": "e32eab38",
   "metadata": {},
   "outputs": [
    {
     "name": "stdout",
     "output_type": "stream",
     "text": [
      "0.10372495651245117\n"
     ]
    }
   ],
   "source": [
    "start_time = time.time()\n",
    "hw1_model = LogisticRegression()\n",
    "hw1_model.fit(X_std_scaler, y)\n",
    "end_time = time.time()\n",
    "print(end_time - start_time)\n",
    "#Train Error\n",
    "hw_train_pred = hw1_model.predict(X_std_scaler)\n",
    "training_error = np.mean(hw_train_pred!=y)\n",
    "\n",
    "#Test Predict\n",
    "hw_y_pred = hw1_model.predict(test_scaled)\n",
    "hw1_test_data = np.where(hw_y_pred==0,-1,1)\n",
    "#write_pred=open(\"gradientdescentoutput6.csv\", \"w\")\n",
    "#write_pred.writelines(\"%s\\n\" % i for i in hw1_test_data)\n",
    "#write_pred.close()\n",
    "\n",
    "#Miner test accuracy on HW1 logistic regression:  0.78"
   ]
  },
  {
   "cell_type": "code",
   "execution_count": 228,
   "id": "b0bff5c3",
   "metadata": {},
   "outputs": [
    {
     "data": {
      "text/plain": [
       "0.18421052631578946"
      ]
     },
     "execution_count": 228,
     "metadata": {},
     "output_type": "execute_result"
    }
   ],
   "source": [
    "training_error"
   ]
  },
  {
   "cell_type": "markdown",
   "id": "8a2477f7",
   "metadata": {},
   "source": [
    "Task 3: \n",
    "\n",
    "Experiment with the learning rate eta (you may want to start by trying different orders of magnitude), this time using a tolerance (how close to zero you need each element of the gradient to be in order to terminate) of 10^{-6}. Report the results in terms of number of iterations until the algorithm terminates, and also the final cross-entropy error. "
   ]
  },
  {
   "cell_type": "code",
   "execution_count": 230,
   "id": "840a1590",
   "metadata": {},
   "outputs": [
    {
     "name": "stdout",
     "output_type": "stream",
     "text": [
      "Learning rate: 0.0001\n"
     ]
    },
    {
     "ename": "KeyboardInterrupt",
     "evalue": "",
     "output_type": "error",
     "traceback": [
      "\u001b[1;31m---------------------------------------------------------------------------\u001b[0m",
      "\u001b[1;31mKeyboardInterrupt\u001b[0m                         Traceback (most recent call last)",
      "Input \u001b[1;32mIn [230]\u001b[0m, in \u001b[0;36m<cell line: 5>\u001b[1;34m()\u001b[0m\n\u001b[0;32m      5\u001b[0m \u001b[38;5;28;01mfor\u001b[39;00m eta \u001b[38;5;129;01min\u001b[39;00m [\u001b[38;5;241m1e-4\u001b[39m,\u001b[38;5;241m1e-5\u001b[39m]:\n\u001b[0;32m      6\u001b[0m     \u001b[38;5;28mprint\u001b[39m(\u001b[38;5;124mf\u001b[39m\u001b[38;5;124m\"\u001b[39m\u001b[38;5;124mLearning rate: \u001b[39m\u001b[38;5;132;01m{\u001b[39;00meta\u001b[38;5;132;01m}\u001b[39;00m\u001b[38;5;124m\"\u001b[39m)\n\u001b[1;32m----> 7\u001b[0m     w,score,cross_entropy_error,classification_error,train_time,iterations,converged_at \u001b[38;5;241m=\u001b[39m \u001b[43mfit_predict_logistic_regression\u001b[49m\u001b[43m(\u001b[49m\u001b[43mX_std_scaler\u001b[49m\u001b[43m,\u001b[49m\u001b[43m \u001b[49m\u001b[43my\u001b[49m\u001b[43m,\u001b[49m\u001b[43m \u001b[49m\u001b[38;5;241;43m1000000\u001b[39;49m\u001b[43m \u001b[49m\u001b[43m,\u001b[49m\u001b[43meta\u001b[49m\u001b[38;5;241;43m=\u001b[39;49m\u001b[43meta\u001b[49m\u001b[43m,\u001b[49m\u001b[43mtol\u001b[49m\u001b[38;5;241;43m=\u001b[39;49m\u001b[43mtol\u001b[49m\u001b[43m)\u001b[49m\n\u001b[0;32m      8\u001b[0m     \u001b[38;5;28mprint\u001b[39m(\u001b[38;5;124mf\u001b[39m\u001b[38;5;124m\"\u001b[39m\u001b[38;5;124mnumber of iterations: \u001b[39m\u001b[38;5;132;01m{\u001b[39;00miterations\u001b[38;5;132;01m}\u001b[39;00m\u001b[38;5;124m\"\u001b[39m)\n\u001b[0;32m      9\u001b[0m     \u001b[38;5;28mprint\u001b[39m(\u001b[38;5;124mf\u001b[39m\u001b[38;5;124m\"\u001b[39m\u001b[38;5;124mTraining Accuracy: \u001b[39m\u001b[38;5;132;01m{\u001b[39;00mscore\u001b[38;5;132;01m:\u001b[39;00m\u001b[38;5;124m.4f\u001b[39m\u001b[38;5;132;01m}\u001b[39;00m\u001b[38;5;124m\"\u001b[39m)\n",
      "Input \u001b[1;32mIn [223]\u001b[0m, in \u001b[0;36mfit_predict_logistic_regression\u001b[1;34m(X, y, iterations, eta, tol)\u001b[0m\n\u001b[0;32m     20\u001b[0m grad \u001b[38;5;241m=\u001b[39m X\u001b[38;5;241m.\u001b[39mT\u001b[38;5;241m.\u001b[39mdot(y_pred\u001b[38;5;241m-\u001b[39my)\u001b[38;5;241m/\u001b[39mX\u001b[38;5;241m.\u001b[39mshape[\u001b[38;5;241m0\u001b[39m]\n\u001b[0;32m     22\u001b[0m \u001b[38;5;28;01mfor\u001b[39;00m j \u001b[38;5;129;01min\u001b[39;00m \u001b[38;5;28mrange\u001b[39m(X\u001b[38;5;241m.\u001b[39mshape[\u001b[38;5;241m0\u001b[39m]):\n\u001b[1;32m---> 23\u001b[0m     cross_entropy_error \u001b[38;5;241m+\u001b[39m\u001b[38;5;241m=\u001b[39m \u001b[38;5;241m-\u001b[39m(np\u001b[38;5;241m.\u001b[39mdot(y[j],np\u001b[38;5;241m.\u001b[39mlog(y_pred[j])) \u001b[38;5;241m+\u001b[39m \u001b[43mnp\u001b[49m\u001b[38;5;241;43m.\u001b[39;49m\u001b[43mdot\u001b[49m\u001b[43m(\u001b[49m\u001b[43m(\u001b[49m\u001b[38;5;241;43m1\u001b[39;49m\u001b[38;5;241;43m-\u001b[39;49m\u001b[43my\u001b[49m\u001b[43m[\u001b[49m\u001b[43mj\u001b[49m\u001b[43m]\u001b[49m\u001b[43m)\u001b[49m\u001b[43m,\u001b[49m\u001b[43mnp\u001b[49m\u001b[38;5;241;43m.\u001b[39;49m\u001b[43mlog\u001b[49m\u001b[43m(\u001b[49m\u001b[38;5;241;43m1\u001b[39;49m\u001b[38;5;241;43m-\u001b[39;49m\u001b[43my_pred\u001b[49m\u001b[43m[\u001b[49m\u001b[43mj\u001b[49m\u001b[43m]\u001b[49m\u001b[43m)\u001b[49m\u001b[43m)\u001b[49m)\n\u001b[0;32m     24\u001b[0m     \u001b[38;5;28;01mif\u001b[39;00m y_pred[j] \u001b[38;5;241m>\u001b[39m\u001b[38;5;241m=\u001b[39m \u001b[38;5;241m0.5\u001b[39m:\n\u001b[0;32m     25\u001b[0m         y_pred_temp \u001b[38;5;241m=\u001b[39m \u001b[38;5;241m1\u001b[39m\n",
      "File \u001b[1;32m<__array_function__ internals>:5\u001b[0m, in \u001b[0;36mdot\u001b[1;34m(*args, **kwargs)\u001b[0m\n",
      "\u001b[1;31mKeyboardInterrupt\u001b[0m: "
     ]
    }
   ],
   "source": [
    "#Experimenting with different eta's\n",
    "import time\n",
    "tol=1e-6\n",
    "i = lw = sc = cost = cerr = tt = et = ca = []\n",
    "for eta in [1e-2,1e-3,1e-4,1e-5]:\n",
    "    print(f\"Learning rate: {eta}\")\n",
    "    w,score,cross_entropy_error,classification_error,train_time,iterations,converged_at = fit_predict_logistic_regression(X_std_scaler, y, 1000000 ,eta=eta,tol=tol)\n",
    "    print(f\"number of iterations: {iterations}\")\n",
    "    print(f\"Training Accuracy: {score:.4f}\")\n",
    "    print(f\"Learned weight vector: {w.ravel()}\")\n",
    "    print(f\"Training set cross-entropy error: {float(cross_entropy_error):.4f}\")\n",
    "    print(f\"Training set classification error: {classification_error:.4f}\")\n",
    "    print(f\"Training time: {train_time:.4f}s\")\n",
    "    print(f\"Coverged at iteration: {converged_at}\")\n",
    "    et.append(eta)\n",
    "    i.append(iterations)\n",
    "    lw.append(w)\n",
    "    sc.append(score)\n",
    "    cost.append(cross_entropy_error)\n",
    "    cerr.append(classification_error)\n",
    "    tt.append(train_time)\n",
    "    ca.append(converged_at)"
   ]
  },
  {
   "cell_type": "markdown",
   "id": "8896a2f3",
   "metadata": {},
   "source": [
    "### Note: I intentionally interrupted the above code as it ran second time by mistake and it is taking a lot of time in my window system. Before re-running it, I took a copy of the result which is below:"
   ]
  },
  {
   "cell_type": "code",
   "execution_count": 242,
   "id": "bbe92eaa",
   "metadata": {},
   "outputs": [
    {
     "data": {
      "text/plain": [
       "'\\nLearning rate: 0.01\\nnumber of iterations: 23221\\nTraining Accuracy: 0.8289\\nLearned weight vector: [-0.35027354 -0.16895917  0.43466055  0.5515073   0.45320421  0.11750063\\n -0.32456248  0.32087401 -0.30951214  0.30614969  0.13299169  0.2729831\\n  0.9490317   0.51505415]\\nTraining set cross-entropy error: 0.4101\\nTraining set classification error: 0.1722\\nTraining time: 15.4529s\\n    \\nLearning rate: 0.001\\nnumber of iterations: 232251\\nTraining Accuracy: 0.8289\\nLearned weight vector: [-0.35027354 -0.16895916  0.43466055  0.5515073   0.45320421  0.11750063\\n -0.32456248  0.32087401 -0.30951214  0.30614969  0.13299169  0.27298309\\n  0.9490317   0.51505415]\\nTraining set cross-entropy error: 0.4101\\nTraining set classification error: 0.1722\\nTraining time: 152.8261s\\n    \\nLearning rate: 0.0001\\nnumber of iterations: 1000000\\nTraining Accuracy: 0.8289\\nLearned weight vector: [-0.35023312 -0.16507692  0.43065651  0.55006422  0.44999373  0.11413723\\n -0.32338192  0.32101006 -0.30811435  0.30503954  0.13722243  0.27012399\\n  0.94337196  0.5176516 ]\\nTraining set cross-entropy error: 0.4101\\nTraining set classification error: 0.1722\\nTraining time: 656.8303s\\n    \\nLearning rate: 1e-05\\nnumber of iterations: 1000000\\nTraining Accuracy: 0.8224\\nLearned weight vector: [-0.27534348  0.04495877  0.32283574  0.42037741  0.24688949  0.00254886\\n -0.16332289  0.22243271 -0.26296924  0.29587714  0.27592051  0.19396054\\n  0.59250954  0.51957026]\\nTraining set cross-entropy error: 0.4195\\nTraining set classification error: 0.1788\\nTraining time: 656.9471s\\n'"
      ]
     },
     "execution_count": 242,
     "metadata": {},
     "output_type": "execute_result"
    }
   ],
   "source": [
    "'''\n",
    "Learning rate: 0.01\n",
    "number of iterations: 23221\n",
    "Training Accuracy: 0.8289\n",
    "Learned weight vector: [-0.35027354 -0.16895917  0.43466055  0.5515073   0.45320421  0.11750063\n",
    " -0.32456248  0.32087401 -0.30951214  0.30614969  0.13299169  0.2729831\n",
    "  0.9490317   0.51505415]\n",
    "Training set cross-entropy error: 0.4101\n",
    "Training set classification error: 0.1722\n",
    "Training time: 15.4529s\n",
    "    \n",
    "Learning rate: 0.001\n",
    "number of iterations: 232251\n",
    "Training Accuracy: 0.8289\n",
    "Learned weight vector: [-0.35027354 -0.16895916  0.43466055  0.5515073   0.45320421  0.11750063\n",
    " -0.32456248  0.32087401 -0.30951214  0.30614969  0.13299169  0.27298309\n",
    "  0.9490317   0.51505415]\n",
    "Training set cross-entropy error: 0.4101\n",
    "Training set classification error: 0.1722\n",
    "Training time: 152.8261s\n",
    "    \n",
    "Learning rate: 0.0001\n",
    "number of iterations: 1000000\n",
    "Training Accuracy: 0.8289\n",
    "Learned weight vector: [-0.35023312 -0.16507692  0.43065651  0.55006422  0.44999373  0.11413723\n",
    " -0.32338192  0.32101006 -0.30811435  0.30503954  0.13722243  0.27012399\n",
    "  0.94337196  0.5176516 ]\n",
    "Training set cross-entropy error: 0.4101\n",
    "Training set classification error: 0.1722\n",
    "Training time: 656.8303s\n",
    "    \n",
    "Learning rate: 1e-05\n",
    "number of iterations: 1000000\n",
    "Training Accuracy: 0.8224\n",
    "Learned weight vector: [-0.27534348  0.04495877  0.32283574  0.42037741  0.24688949  0.00254886\n",
    " -0.16332289  0.22243271 -0.26296924  0.29587714  0.27592051  0.19396054\n",
    "  0.59250954  0.51957026]\n",
    "Training set cross-entropy error: 0.4195\n",
    "Training set classification error: 0.1788\n",
    "Training time: 656.9471s\n",
    "'''"
   ]
  },
  {
   "cell_type": "code",
   "execution_count": 196,
   "id": "1a2ebb2a",
   "metadata": {},
   "outputs": [],
   "source": [
    "write_pred=open(\"gradientdescentoutput.csv\", \"w\")\n",
    "write_pred.writelines(\"%s\\n\" % i for i in test_pred)\n",
    "write_pred.close()"
   ]
  },
  {
   "cell_type": "code",
   "execution_count": null,
   "id": "6f3b7a72",
   "metadata": {},
   "outputs": [],
   "source": []
  },
  {
   "cell_type": "code",
   "execution_count": null,
   "id": "b152d799",
   "metadata": {},
   "outputs": [],
   "source": []
  }
 ],
 "metadata": {
  "kernelspec": {
   "display_name": "Python 3 (ipykernel)",
   "language": "python",
   "name": "python3"
  },
  "language_info": {
   "codemirror_mode": {
    "name": "ipython",
    "version": 3
   },
   "file_extension": ".py",
   "mimetype": "text/x-python",
   "name": "python",
   "nbconvert_exporter": "python",
   "pygments_lexer": "ipython3",
   "version": "3.9.12"
  }
 },
 "nbformat": 4,
 "nbformat_minor": 5
}
